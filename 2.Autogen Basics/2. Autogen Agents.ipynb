{
 "cells": [
  {
   "cell_type": "markdown",
   "id": "a287b4ac",
   "metadata": {},
   "source": [
    "#### Tools\n",
    "\n",
    "1.Custom funtions\n",
    "\n",
    "2. Built In\n",
    "\n",
    "3. 3rd party"
   ]
  },
  {
   "cell_type": "code",
   "execution_count": 1,
   "id": "e02d18ae",
   "metadata": {},
   "outputs": [],
   "source": [
    "import asyncio\n",
    "from autogen_agentchat.agents import AssistantAgent\n",
    "from autogen_ext.models.openai import OpenAIChatCompletionClient\n",
    "from autogen_core.tools import FunctionTool\n",
    "import os\n",
    "from dotenv import load_dotenv"
   ]
  },
  {
   "cell_type": "code",
   "execution_count": 2,
   "id": "b488e94d",
   "metadata": {},
   "outputs": [],
   "source": [
    "load_dotenv()\n",
    "api_key = os.getenv(\"OPENAI_API_KEY\")\n",
    "if not api_key:\n",
    "    raise ValueError(\"please set the OPENAI_API_KEY env varible\")"
   ]
  },
  {
   "cell_type": "code",
   "execution_count": 3,
   "id": "02e186ec",
   "metadata": {},
   "outputs": [],
   "source": [
    "model_client = OpenAIChatCompletionClient(model=\"gpt-4o\", api_key=api_key)"
   ]
  },
  {
   "cell_type": "code",
   "execution_count": 4,
   "id": "4cb542af",
   "metadata": {},
   "outputs": [],
   "source": [
    "def reverse_string(text:str) -> str:\n",
    "    '''\n",
    "    Reverse the given text\n",
    "\n",
    "    input :str\n",
    "    output:str\n",
    "    the reversed string is returned\n",
    "    '''\n",
    "\n",
    "    return text[::-1]"
   ]
  },
  {
   "cell_type": "code",
   "execution_count": 5,
   "id": "1fac31b4",
   "metadata": {},
   "outputs": [],
   "source": [
    "reverse_tool = FunctionTool(reverse_string, description='a tool to reverse a string')"
   ]
  },
  {
   "cell_type": "code",
   "execution_count": null,
   "id": "2da22170",
   "metadata": {},
   "outputs": [],
   "source": [
    "agent = AssistantAgent(\n",
    "    name=\"ReverseStringAgent\",\n",
    "    model_client=model_client,\n",
    "    system_message=\"you are a helpful assistant that can reverse string using reverse_string tool. Give the result with sumary\",\n",
    "    tools=[reverse_tool]\n",
    ")"
   ]
  },
  {
   "cell_type": "code",
   "execution_count": 8,
   "id": "59b450b5",
   "metadata": {},
   "outputs": [],
   "source": [
    "result = await agent.run(task='reverse the string \"Hello World!\"')"
   ]
  },
  {
   "cell_type": "code",
   "execution_count": 9,
   "id": "901979cd",
   "metadata": {},
   "outputs": [
    {
     "data": {
      "text/plain": [
       "TaskResult(messages=[TextMessage(id='96a26eb4-fea6-4221-acc9-3b6a86d2553e', source='user', models_usage=None, metadata={}, created_at=datetime.datetime(2025, 9, 4, 1, 43, 46, 390139, tzinfo=datetime.timezone.utc), content='reverse the string \"Hello World!\"', type='TextMessage'), ToolCallRequestEvent(id='469fa72b-1003-4543-960e-12d6155e8576', source='ReverseStringAgent', models_usage=RequestUsage(prompt_tokens=79, completion_tokens=16), metadata={}, created_at=datetime.datetime(2025, 9, 4, 1, 43, 48, 56154, tzinfo=datetime.timezone.utc), content=[FunctionCall(id='call_ahmy4VdyveSsQ3vFXPBKqJEd', arguments='{\"text\":\"Hello World!\"}', name='reverse_string')], type='ToolCallRequestEvent'), ToolCallExecutionEvent(id='0d480e5d-c3b4-47ba-9eaa-94bcbbfe579a', source='ReverseStringAgent', models_usage=None, metadata={}, created_at=datetime.datetime(2025, 9, 4, 1, 43, 48, 58399, tzinfo=datetime.timezone.utc), content=[FunctionExecutionResult(content='!dlroW olleH', name='reverse_string', call_id='call_ahmy4VdyveSsQ3vFXPBKqJEd', is_error=False)], type='ToolCallExecutionEvent'), ToolCallSummaryMessage(id='ea5d9775-94dc-45bb-bcb5-ef10f92ffbb3', source='ReverseStringAgent', models_usage=None, metadata={}, created_at=datetime.datetime(2025, 9, 4, 1, 43, 48, 58465, tzinfo=datetime.timezone.utc), content='!dlroW olleH', type='ToolCallSummaryMessage', tool_calls=[FunctionCall(id='call_ahmy4VdyveSsQ3vFXPBKqJEd', arguments='{\"text\":\"Hello World!\"}', name='reverse_string')], results=[FunctionExecutionResult(content='!dlroW olleH', name='reverse_string', call_id='call_ahmy4VdyveSsQ3vFXPBKqJEd', is_error=False)])], stop_reason=None)"
      ]
     },
     "execution_count": 9,
     "metadata": {},
     "output_type": "execute_result"
    }
   ],
   "source": [
    "result"
   ]
  },
  {
   "cell_type": "markdown",
   "id": "5dca904f",
   "metadata": {},
   "source": [
    "TaskResult(messages=[TextMessage(id='96a26eb4-fea6-4221-acc9-3b6a86d2553e', source='user', models_usage=None, metadata={}, created_at=datetime.datetime(2025, 9, 4, 1, 43, 46, 390139, tzinfo=datetime.timezone.utc), content='reverse the string \"Hello World!\"', type='TextMessage'), ToolCallRequestEvent(id='469fa72b-1003-4543-960e-12d6155e8576', source='ReverseStringAgent', models_usage=RequestUsage(prompt_tokens=79, completion_tokens=16), metadata={}, created_at=datetime.datetime(2025, 9, 4, 1, 43, 48, 56154, tzinfo=datetime.timezone.utc), content=[FunctionCall(id='call_ahmy4VdyveSsQ3vFXPBKqJEd', arguments='{\"text\":\"Hello World!\"}', name='reverse_string')], type='ToolCallRequestEvent'), ToolCallExecutionEvent(id='0d480e5d-c3b4-47ba-9eaa-94bcbbfe579a', source='ReverseStringAgent', models_usage=None, metadata={}, created_at=datetime.datetime(2025, 9, 4, 1, 43, 48, 58399, tzinfo=datetime.timezone.utc), content=[FunctionExecutionResult(content='!dlroW olleH', name='reverse_string', call_id='call_ahmy4VdyveSsQ3vFXPBKqJEd', is_error=False)], type='ToolCallExecutionEvent'), ToolCallSummaryMessage(id='ea5d9775-94dc-45bb-bcb5-ef10f92ffbb3', source='ReverseStringAgent', models_usage=None, metadata={}, created_at=datetime.datetime(2025, 9, 4, 1, 43, 48, 58465, tzinfo=datetime.timezone.utc), content='!dlroW olleH', type='ToolCallSummaryMessage', tool_calls=[FunctionCall(id='call_ahmy4VdyveSsQ3vFXPBKqJEd', arguments='{\"text\":\"Hello World!\"}', name='reverse_string')], results=[FunctionExecutionResult(content='!dlroW olleH', name='reverse_string', call_id='call_ahmy4VdyveSsQ3vFXPBKqJEd', is_error=False)])], stop_reason=None)"
   ]
  },
  {
   "cell_type": "code",
   "execution_count": 12,
   "id": "43176b35",
   "metadata": {},
   "outputs": [
    {
     "data": {
      "text/plain": [
       "'!dlroW olleH'"
      ]
     },
     "execution_count": 12,
     "metadata": {},
     "output_type": "execute_result"
    }
   ],
   "source": [
    "result.messages[-1].content\n"
   ]
  },
  {
   "cell_type": "code",
   "execution_count": null,
   "id": "a1942501",
   "metadata": {},
   "outputs": [],
   "source": []
  },
  {
   "cell_type": "code",
   "execution_count": null,
   "id": "ed5b156a",
   "metadata": {},
   "outputs": [],
   "source": []
  }
 ],
 "metadata": {
  "kernelspec": {
   "display_name": "autogen-venv",
   "language": "python",
   "name": "python3"
  },
  "language_info": {
   "codemirror_mode": {
    "name": "ipython",
    "version": 3
   },
   "file_extension": ".py",
   "mimetype": "text/x-python",
   "name": "python",
   "nbconvert_exporter": "python",
   "pygments_lexer": "ipython3",
   "version": "3.12.7"
  }
 },
 "nbformat": 4,
 "nbformat_minor": 5
}
