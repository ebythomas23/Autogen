{
 "cells": [
  {
   "cell_type": "code",
   "execution_count": 1,
   "id": "7861ac07",
   "metadata": {},
   "outputs": [],
   "source": [
    "import asyncio\n",
    "from autogen_agentchat.agents import AssistantAgent\n",
    "from autogen_agentchat.teams import SelectorGroupChat\n",
    "from autogen_ext.models.openai import OpenAIChatCompletionClient\n",
    "from autogen_agentchat.conditions import TextMentionTermination\n",
    "from dotenv import load_dotenv\n",
    "import os\n",
    "\n",
    "# Load API key\n",
    "load_dotenv()\n",
    "api_key = os.getenv('OPENAI_API_KEY')\n",
    "\n",
    "# Model client\n",
    "model_client = OpenAIChatCompletionClient(model='gpt-4o', api_key=api_key)"
   ]
  },
  {
   "cell_type": "code",
   "execution_count": 2,
   "id": "891c6507",
   "metadata": {},
   "outputs": [],
   "source": [
    "\n",
    "planning_agent = AssistantAgent(\n",
    "    name=\"PlanningAgent\",\n",
    "    description=\"An agent for planning tasks, this agent should be the first to engage when given a new task.\",\n",
    "    model_client=model_client,\n",
    "    system_message=\"\"\"\n",
    "    You are a planning agent.\n",
    "    Your job is to break down complex tasks into smaller, manageable subtasks.\n",
    "    Your team members are:\n",
    "        WebSearchAgent: Searches for information\n",
    "        DataAnalystAgent: Performs calculations\n",
    "\n",
    "    You only plan and delegate tasks - you do not execute them yourself.\n",
    "\n",
    "    When assigning tasks, use this format:\n",
    "    1. <agent> : <task>\n",
    "\n",
    "    After all tasks are complete, summarize the findings and end with \"TERMINATE\".\n",
    "    \"\"\",\n",
    ")"
   ]
  },
  {
   "cell_type": "code",
   "execution_count": null,
   "id": "dc9f007f",
   "metadata": {},
   "outputs": [],
   "source": [
    "#### real web search : use mocked function below to understand  better \n",
    "from dotenv import load_dotenv\n",
    "\n",
    "from langchain_community.utilities import GoogleSerperAPIWrapper\n",
    "\n",
    "from autogen_ext.tools.http import HttpTool\n",
    "\n",
    "\n",
    "os.environ['SERPER_API_KEY']=''\n",
    "\n",
    "\n",
    "search_tool_wrapper = GoogleSerperAPIWrapper(type='search')\n",
    "\n",
    "def search_web(query:str) ->str:\n",
    "    \"\"\"Search the web for the given query and return the results.\"\"\"\n",
    "    try:\n",
    "        results = search_tool_wrapper.run(query)\n",
    "        return results\n",
    "    except Exception as e:\n",
    "        print(f\"Error occurred while searching the web: {e}\")\n",
    "        return \"No results found.\"  "
   ]
  },
  {
   "cell_type": "code",
   "execution_count": 3,
   "id": "a9daab0d",
   "metadata": {},
   "outputs": [],
   "source": [
    "def search_web_tool(query:str)-> str:\n",
    "    # Simulate a web search\n",
    "    if \"2006-2007\" in query:\n",
    "        return \"\"\"Here are the total points scored by Miami Heat players in the 2006-2007 season:\n",
    "        Udonis Haslem: 844 points\n",
    "        Dwayne Wade: 1397 points\n",
    "        James Posey: 550 points\n",
    "        ...\n",
    "        \"\"\"\n",
    "    elif \"2007-2008\" in query:\n",
    "        return \"The number of total rebounds for Dwayne Wade in the Miami Heat season 2007-2008 is 214.\"\n",
    "    elif \"2008-2009\" in query:\n",
    "        return \"The number of total rebounds for Dwayne Wade in the Miami Heat season 2008-2009 is 398.\"\n",
    "    return \"No data found.\""
   ]
  },
  {
   "cell_type": "code",
   "execution_count": 4,
   "id": "17e13f52",
   "metadata": {},
   "outputs": [],
   "source": [
    "web_search_agent = AssistantAgent(\n",
    "    name = 'WebSearchAgent',\n",
    "    description= 'An agent for searching the web for information.',\n",
    "    model_client=model_client,\n",
    "    tools = [search_web_tool],\n",
    "    reflect_on_tool_use=False,\n",
    "    system_message='''\n",
    "        You are a web search agent.\n",
    "        Your only tool is search_web - use it to find the information you need.\n",
    "\n",
    "        You make only one search call at a time.\n",
    "        \n",
    "        Once you have the results, you never do calculations or data analysis on them.\n",
    "    ''',\n",
    ")"
   ]
  },
  {
   "cell_type": "code",
   "execution_count": 5,
   "id": "6e21e281",
   "metadata": {},
   "outputs": [],
   "source": [
    "def percentage_change_tool(start:float, end:float) -> float:\n",
    "    # Calculate percentage change\n",
    "    if start == 0:\n",
    "        return 0\n",
    "    return ((end - start) / start) * 100"
   ]
  },
  {
   "cell_type": "code",
   "execution_count": 6,
   "id": "0428efaa",
   "metadata": {},
   "outputs": [],
   "source": [
    "data_analyst_agent = AssistantAgent(\n",
    "    name = 'DataAnalystAgent',\n",
    "    description= 'An agent for performing calculations and data analysis.',\n",
    "    model_client=model_client,\n",
    "    tools= [percentage_change_tool],\n",
    "    system_message='''\n",
    "        You are a data analyst agent.\n",
    "        Given the tasks you have been assigned, you should analyze the data and provide results using the tools provided (percentage_change_tool).\n",
    "\n",
    "        If you have not seen the data, ask for it.\n",
    "\n",
    "    ''',\n",
    ")"
   ]
  },
  {
   "cell_type": "markdown",
   "id": "e5167a3f",
   "metadata": {},
   "source": [
    "#### Termination condition"
   ]
  },
  {
   "cell_type": "code",
   "execution_count": 7,
   "id": "489edb1a",
   "metadata": {},
   "outputs": [],
   "source": [
    "from autogen_agentchat.conditions import TextMentionTermination,MaxMessageTermination\n",
    "\n",
    "txt_mention_termination = TextMentionTermination('TERMINATE')\n",
    "max_message_termination = MaxMessageTermination(max_messages=20)\n",
    "combined_termination = txt_mention_termination | max_message_termination\n"
   ]
  },
  {
   "cell_type": "code",
   "execution_count": 8,
   "id": "e5adfe1a",
   "metadata": {},
   "outputs": [],
   "source": [
    "selector_prompt = '''\n",
    "Select an agent to perform the task.\n",
    "\n",
    "{roles}\n",
    "\n",
    "current conversation history :\n",
    "{history}\n",
    "\n",
    "Read the above conversation, then select an agent from {participants} to perform the next task.\n",
    "Make sure that the planning agent has assigned task before other agents start working.\n",
    "Only select one agent.\n",
    "'''"
   ]
  },
  {
   "cell_type": "code",
   "execution_count": 9,
   "id": "1490ec6d",
   "metadata": {},
   "outputs": [],
   "source": [
    "selector_team = SelectorGroupChat(\n",
    "    participants=[planning_agent,web_search_agent,data_analyst_agent],\n",
    "    model_client=model_client,\n",
    "    termination_condition= combined_termination,\n",
    "    selector_prompt=selector_prompt,\n",
    "    allow_repeated_speaker=True\n",
    "\n",
    ")"
   ]
  },
  {
   "cell_type": "code",
   "execution_count": 10,
   "id": "30f2b355",
   "metadata": {},
   "outputs": [],
   "source": [
    "\n",
    "task = \"Who was the Miami Heat player with the highest point in the 2006-2007 season, and what was the percentage change in his total rebounds between the 2007-2008 and 2008-2009 seasons?\""
   ]
  },
  {
   "cell_type": "code",
   "execution_count": 11,
   "id": "cb190a62",
   "metadata": {},
   "outputs": [
    {
     "name": "stdout",
     "output_type": "stream",
     "text": [
      "---------- TextMessage (user) ----------\n",
      "Who was the Miami Heat player with the highest point in the 2006-2007 season, and what was the percentage change in his total rebounds between the 2007-2008 and 2008-2009 seasons?\n",
      "---------- TextMessage (PlanningAgent) ----------\n",
      "To address this request, we need to break down the task into a few steps:\n",
      "\n",
      "1. Identify which Miami Heat player had the highest points per game in the 2006-2007 NBA season.\n",
      "2. Gather data on this player's total rebounds for both the 2007-2008 and 2008-2009 NBA seasons.\n",
      "3. Calculate the percentage change in total rebounds between those two seasons.\n",
      "\n",
      "Let's start assigning these tasks:\n",
      "\n",
      "1. WebSearchAgent: Identify the Miami Heat player with the highest points per game in the 2006-2007 NBA season.\n",
      "2. WebSearchAgent: Find data on the player's total rebounds for the 2007-2008 season.\n",
      "3. WebSearchAgent: Find data on the player's total rebounds for the 2008-2009 season.\n",
      "\n",
      "Once we have these pieces of information, we can calculate the percentage change:\n",
      "\n",
      "4. DataAnalystAgent: Calculate the percentage change in total rebounds from the 2007-2008 season to the 2008-2009 season for the identified player.\n",
      "---------- ToolCallRequestEvent (WebSearchAgent) ----------\n",
      "[FunctionCall(id='call_8kh6jHDCxMdzpGqLFk11yhXd', arguments='{\"query\":\"Miami Heat highest scoring player 2006-2007 season\"}', name='search_web_tool')]\n",
      "---------- ToolCallExecutionEvent (WebSearchAgent) ----------\n",
      "[FunctionExecutionResult(content='Here are the total points scored by Miami Heat players in the 2006-2007 season:\\n        Udonis Haslem: 844 points\\n        Dwayne Wade: 1397 points\\n        James Posey: 550 points\\n        ...\\n        ', name='search_web_tool', call_id='call_8kh6jHDCxMdzpGqLFk11yhXd', is_error=False)]\n",
      "---------- ToolCallSummaryMessage (WebSearchAgent) ----------\n",
      "Here are the total points scored by Miami Heat players in the 2006-2007 season:\n",
      "        Udonis Haslem: 844 points\n",
      "        Dwayne Wade: 1397 points\n",
      "        James Posey: 550 points\n",
      "        ...\n",
      "        \n",
      "---------- ToolCallRequestEvent (WebSearchAgent) ----------\n",
      "[FunctionCall(id='call_N8gtzO5qJgLcfMd7mMdsxbx3', arguments='{\"query\": \"Dwyane Wade total rebounds 2007-2008 season NBA\"}', name='search_web_tool'), FunctionCall(id='call_fR5ZTANVs0ajY2HXiOfXaxpT', arguments='{\"query\": \"Dwyane Wade total rebounds 2008-2009 season NBA\"}', name='search_web_tool')]\n",
      "---------- ToolCallExecutionEvent (WebSearchAgent) ----------\n",
      "[FunctionExecutionResult(content='The number of total rebounds for Dwayne Wade in the Miami Heat season 2007-2008 is 214.', name='search_web_tool', call_id='call_N8gtzO5qJgLcfMd7mMdsxbx3', is_error=False), FunctionExecutionResult(content='The number of total rebounds for Dwayne Wade in the Miami Heat season 2008-2009 is 398.', name='search_web_tool', call_id='call_fR5ZTANVs0ajY2HXiOfXaxpT', is_error=False)]\n",
      "---------- ToolCallSummaryMessage (WebSearchAgent) ----------\n",
      "The number of total rebounds for Dwayne Wade in the Miami Heat season 2007-2008 is 214.\n",
      "The number of total rebounds for Dwayne Wade in the Miami Heat season 2008-2009 is 398.\n",
      "---------- ToolCallRequestEvent (DataAnalystAgent) ----------\n",
      "[FunctionCall(id='call_WVxOLGWmu8BcSjsrD28E1VkD', arguments='{\"start\":214,\"end\":398}', name='percentage_change_tool')]\n",
      "---------- ToolCallExecutionEvent (DataAnalystAgent) ----------\n",
      "[FunctionExecutionResult(content='85.98130841121495', name='percentage_change_tool', call_id='call_WVxOLGWmu8BcSjsrD28E1VkD', is_error=False)]\n",
      "---------- ToolCallSummaryMessage (DataAnalystAgent) ----------\n",
      "85.98130841121495\n",
      "---------- TextMessage (PlanningAgent) ----------\n",
      "Based on the gathered data:\n",
      "\n",
      "1. The Miami Heat player with the highest total points in the 2006-2007 season was Dwyane Wade, with 1,397 points.\n",
      "2. Dwyane Wade had 214 total rebounds in the 2007-2008 season and 398 total rebounds in the 2008-2009 season.\n",
      "\n",
      "The percentage change in Dwyane Wade's total rebounds from the 2007-2008 season to the 2008-2009 season is approximately 85.98%.\n",
      "\n",
      "TERMINATE\n"
     ]
    },
    {
     "data": {
      "text/plain": [
       "TaskResult(messages=[TextMessage(id='4be69f1b-2dd4-4d74-9334-20ba75338475', source='user', models_usage=None, metadata={}, created_at=datetime.datetime(2025, 9, 12, 11, 16, 46, 717533, tzinfo=datetime.timezone.utc), content='Who was the Miami Heat player with the highest point in the 2006-2007 season, and what was the percentage change in his total rebounds between the 2007-2008 and 2008-2009 seasons?', type='TextMessage'), TextMessage(id='67f670ef-0151-48d1-a102-cd4ed8d4b7da', source='PlanningAgent', models_usage=RequestUsage(prompt_tokens=161, completion_tokens=215), metadata={}, created_at=datetime.datetime(2025, 9, 12, 11, 16, 51, 365945, tzinfo=datetime.timezone.utc), content=\"To address this request, we need to break down the task into a few steps:\\n\\n1. Identify which Miami Heat player had the highest points per game in the 2006-2007 NBA season.\\n2. Gather data on this player's total rebounds for both the 2007-2008 and 2008-2009 NBA seasons.\\n3. Calculate the percentage change in total rebounds between those two seasons.\\n\\nLet's start assigning these tasks:\\n\\n1. WebSearchAgent: Identify the Miami Heat player with the highest points per game in the 2006-2007 NBA season.\\n2. WebSearchAgent: Find data on the player's total rebounds for the 2007-2008 season.\\n3. WebSearchAgent: Find data on the player's total rebounds for the 2008-2009 season.\\n\\nOnce we have these pieces of information, we can calculate the percentage change:\\n\\n4. DataAnalystAgent: Calculate the percentage change in total rebounds from the 2007-2008 season to the 2008-2009 season for the identified player.\", type='TextMessage'), ToolCallRequestEvent(id='d035ba8e-681c-478b-a6f3-3a83f22101fb', source='WebSearchAgent', models_usage=RequestUsage(prompt_tokens=369, completion_tokens=26), metadata={}, created_at=datetime.datetime(2025, 9, 12, 11, 16, 52, 919907, tzinfo=datetime.timezone.utc), content=[FunctionCall(id='call_8kh6jHDCxMdzpGqLFk11yhXd', arguments='{\"query\":\"Miami Heat highest scoring player 2006-2007 season\"}', name='search_web_tool')], type='ToolCallRequestEvent'), ToolCallExecutionEvent(id='68d23767-e4c6-45ac-9d3e-552a0dc92248', source='WebSearchAgent', models_usage=None, metadata={}, created_at=datetime.datetime(2025, 9, 12, 11, 16, 52, 926638, tzinfo=datetime.timezone.utc), content=[FunctionExecutionResult(content='Here are the total points scored by Miami Heat players in the 2006-2007 season:\\n        Udonis Haslem: 844 points\\n        Dwayne Wade: 1397 points\\n        James Posey: 550 points\\n        ...\\n        ', name='search_web_tool', call_id='call_8kh6jHDCxMdzpGqLFk11yhXd', is_error=False)], type='ToolCallExecutionEvent'), ToolCallSummaryMessage(id='165f7092-185a-425b-aff1-f9d4bea5cf2b', source='WebSearchAgent', models_usage=None, metadata={}, created_at=datetime.datetime(2025, 9, 12, 11, 16, 52, 928908, tzinfo=datetime.timezone.utc), content='Here are the total points scored by Miami Heat players in the 2006-2007 season:\\n        Udonis Haslem: 844 points\\n        Dwayne Wade: 1397 points\\n        James Posey: 550 points\\n        ...\\n        ', type='ToolCallSummaryMessage', tool_calls=[FunctionCall(id='call_8kh6jHDCxMdzpGqLFk11yhXd', arguments='{\"query\":\"Miami Heat highest scoring player 2006-2007 season\"}', name='search_web_tool')], results=[FunctionExecutionResult(content='Here are the total points scored by Miami Heat players in the 2006-2007 season:\\n        Udonis Haslem: 844 points\\n        Dwayne Wade: 1397 points\\n        James Posey: 550 points\\n        ...\\n        ', name='search_web_tool', call_id='call_8kh6jHDCxMdzpGqLFk11yhXd', is_error=False)]), ToolCallRequestEvent(id='f1808926-833c-4051-bd0e-b9414a684b01', source='WebSearchAgent', models_usage=RequestUsage(prompt_tokens=457, completion_tokens=72), metadata={}, created_at=datetime.datetime(2025, 9, 12, 11, 16, 56, 487389, tzinfo=datetime.timezone.utc), content=[FunctionCall(id='call_N8gtzO5qJgLcfMd7mMdsxbx3', arguments='{\"query\": \"Dwyane Wade total rebounds 2007-2008 season NBA\"}', name='search_web_tool'), FunctionCall(id='call_fR5ZTANVs0ajY2HXiOfXaxpT', arguments='{\"query\": \"Dwyane Wade total rebounds 2008-2009 season NBA\"}', name='search_web_tool')], type='ToolCallRequestEvent'), ToolCallExecutionEvent(id='db7be758-98eb-42fa-aec2-da34b20c968f', source='WebSearchAgent', models_usage=None, metadata={}, created_at=datetime.datetime(2025, 9, 12, 11, 16, 56, 492196, tzinfo=datetime.timezone.utc), content=[FunctionExecutionResult(content='The number of total rebounds for Dwayne Wade in the Miami Heat season 2007-2008 is 214.', name='search_web_tool', call_id='call_N8gtzO5qJgLcfMd7mMdsxbx3', is_error=False), FunctionExecutionResult(content='The number of total rebounds for Dwayne Wade in the Miami Heat season 2008-2009 is 398.', name='search_web_tool', call_id='call_fR5ZTANVs0ajY2HXiOfXaxpT', is_error=False)], type='ToolCallExecutionEvent'), ToolCallSummaryMessage(id='b464cf52-38b3-4c90-9b75-ce93aab958bc', source='WebSearchAgent', models_usage=None, metadata={}, created_at=datetime.datetime(2025, 9, 12, 11, 16, 56, 492642, tzinfo=datetime.timezone.utc), content='The number of total rebounds for Dwayne Wade in the Miami Heat season 2007-2008 is 214.\\nThe number of total rebounds for Dwayne Wade in the Miami Heat season 2008-2009 is 398.', type='ToolCallSummaryMessage', tool_calls=[FunctionCall(id='call_N8gtzO5qJgLcfMd7mMdsxbx3', arguments='{\"query\": \"Dwyane Wade total rebounds 2007-2008 season NBA\"}', name='search_web_tool'), FunctionCall(id='call_fR5ZTANVs0ajY2HXiOfXaxpT', arguments='{\"query\": \"Dwyane Wade total rebounds 2008-2009 season NBA\"}', name='search_web_tool')], results=[FunctionExecutionResult(content='The number of total rebounds for Dwayne Wade in the Miami Heat season 2007-2008 is 214.', name='search_web_tool', call_id='call_N8gtzO5qJgLcfMd7mMdsxbx3', is_error=False), FunctionExecutionResult(content='The number of total rebounds for Dwayne Wade in the Miami Heat season 2008-2009 is 398.', name='search_web_tool', call_id='call_fR5ZTANVs0ajY2HXiOfXaxpT', is_error=False)]), ToolCallRequestEvent(id='9fc6749e-fe34-4c1e-8f6f-4c5591b7d254', source='DataAnalystAgent', models_usage=RequestUsage(prompt_tokens=489, completion_tokens=20), metadata={}, created_at=datetime.datetime(2025, 9, 12, 11, 16, 58, 124920, tzinfo=datetime.timezone.utc), content=[FunctionCall(id='call_WVxOLGWmu8BcSjsrD28E1VkD', arguments='{\"start\":214,\"end\":398}', name='percentage_change_tool')], type='ToolCallRequestEvent'), ToolCallExecutionEvent(id='33ef1bf8-627b-4e95-b2b0-50604fb60b49', source='DataAnalystAgent', models_usage=None, metadata={}, created_at=datetime.datetime(2025, 9, 12, 11, 16, 58, 129813, tzinfo=datetime.timezone.utc), content=[FunctionExecutionResult(content='85.98130841121495', name='percentage_change_tool', call_id='call_WVxOLGWmu8BcSjsrD28E1VkD', is_error=False)], type='ToolCallExecutionEvent'), ToolCallSummaryMessage(id='f51333ae-649a-4e8e-952c-e7c03db23758', source='DataAnalystAgent', models_usage=None, metadata={}, created_at=datetime.datetime(2025, 9, 12, 11, 16, 58, 130181, tzinfo=datetime.timezone.utc), content='85.98130841121495', type='ToolCallSummaryMessage', tool_calls=[FunctionCall(id='call_WVxOLGWmu8BcSjsrD28E1VkD', arguments='{\"start\":214,\"end\":398}', name='percentage_change_tool')], results=[FunctionExecutionResult(content='85.98130841121495', name='percentage_change_tool', call_id='call_WVxOLGWmu8BcSjsrD28E1VkD', is_error=False)]), TextMessage(id='b21e2b5b-8d64-42f7-8146-644eec8383ac', source='PlanningAgent', models_usage=RequestUsage(prompt_tokens=513, completion_tokens=113), metadata={}, created_at=datetime.datetime(2025, 9, 12, 11, 17, 0, 842465, tzinfo=datetime.timezone.utc), content=\"Based on the gathered data:\\n\\n1. The Miami Heat player with the highest total points in the 2006-2007 season was Dwyane Wade, with 1,397 points.\\n2. Dwyane Wade had 214 total rebounds in the 2007-2008 season and 398 total rebounds in the 2008-2009 season.\\n\\nThe percentage change in Dwyane Wade's total rebounds from the 2007-2008 season to the 2008-2009 season is approximately 85.98%.\\n\\nTERMINATE\", type='TextMessage')], stop_reason=\"Text 'TERMINATE' mentioned\")"
      ]
     },
     "execution_count": 11,
     "metadata": {},
     "output_type": "execute_result"
    }
   ],
   "source": [
    "from autogen_agentchat.ui import Console\n",
    "await Console(selector_team.run_stream(task=task))"
   ]
  },
  {
   "cell_type": "code",
   "execution_count": null,
   "id": "85485fb8",
   "metadata": {},
   "outputs": [],
   "source": []
  }
 ],
 "metadata": {
  "kernelspec": {
   "display_name": "autogen-venv",
   "language": "python",
   "name": "python3"
  },
  "language_info": {
   "codemirror_mode": {
    "name": "ipython",
    "version": 3
   },
   "file_extension": ".py",
   "mimetype": "text/x-python",
   "name": "python",
   "nbconvert_exporter": "python",
   "pygments_lexer": "ipython3",
   "version": "3.12.7"
  }
 },
 "nbformat": 4,
 "nbformat_minor": 5
}
