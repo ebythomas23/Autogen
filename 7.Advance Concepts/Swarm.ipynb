{
 "cells": [
  {
   "cell_type": "code",
   "execution_count": 3,
   "id": "02160203",
   "metadata": {},
   "outputs": [],
   "source": [
    "from typing import Any, Dict, List\n",
    "\n",
    "from autogen_agentchat.agents import AssistantAgent\n",
    "from autogen_agentchat.conditions import HandoffTermination, TextMentionTermination\n",
    "from autogen_agentchat.messages import HandoffMessage\n",
    "from autogen_agentchat.teams import Swarm\n",
    "from autogen_agentchat.ui import Console\n",
    "from autogen_ext.models.openai import OpenAIChatCompletionClient"
   ]
  },
  {
   "cell_type": "code",
   "execution_count": 4,
   "id": "7cf0db05",
   "metadata": {},
   "outputs": [],
   "source": [
    "from dotenv import load_dotenv\n",
    "load_dotenv()\n",
    "import os \n",
    "api_key = os.getenv('OPENAI_API_KEY')\n",
    "model_client = OpenAIChatCompletionClient(model='gpt-4o', api_key=api_key, parallel_tool_calls=False)\n"
   ]
  },
  {
   "cell_type": "code",
   "execution_count": 5,
   "id": "0356d601",
   "metadata": {},
   "outputs": [],
   "source": [
    "def refund_flight(flight_PNR:str)-> str:\n",
    "    return f\"Refunded Flight with PNR {flight_PNR}\""
   ]
  },
  {
   "cell_type": "code",
   "execution_count": 6,
   "id": "c2f1a1cc",
   "metadata": {},
   "outputs": [],
   "source": [
    "travel_agent =AssistantAgent(\n",
    "        name='travel_agent',\n",
    "        model_client=model_client,\n",
    "        handoffs=['flights_refunder','user'],\n",
    "        system_message=\"\"\"You are a travel agent.\n",
    "    The flights_refunder is in charge of refunding flights.\n",
    "    If you need information from the user, you must first send your message, then you can handoff to the user.\n",
    "    Use TERMINATE when the travel planning is complete.\"\"\",\n",
    "\n",
    ")"
   ]
  },
  {
   "cell_type": "code",
   "execution_count": 7,
   "id": "90816bcc",
   "metadata": {},
   "outputs": [],
   "source": [
    "flights_refunder = AssistantAgent(\n",
    "    name='flights_refunder',\n",
    "    model_client=model_client,\n",
    "    handoffs=['travel_agent', 'user'],\n",
    "    tools=[refund_flight],\n",
    "    system_message=\"\"\"You are an agent specialized in refunding flights.\n",
    "    You only need flight PNR numbers to refund a flight.\n",
    "    You have the ability to refund a flight using the refund_flight tool.\n",
    "    If you need information from the user, you must first send your message, then you can handoff to the user.\n",
    "    When the transaction is complete, handoff to the travel agent to finalize.\"\"\",\n",
    ")\n"
   ]
  },
  {
   "cell_type": "code",
   "execution_count": 8,
   "id": "77b64b10",
   "metadata": {},
   "outputs": [],
   "source": [
    "termination = HandoffTermination(target='user') | TextMentionTermination('TERMINATE')\n",
    "team = Swarm(participants=[travel_agent,flights_refunder], termination_condition= termination)\n"
   ]
  },
  {
   "cell_type": "code",
   "execution_count": 9,
   "id": "f6a154e0",
   "metadata": {},
   "outputs": [],
   "source": [
    "await team.reset()"
   ]
  },
  {
   "cell_type": "code",
   "execution_count": 10,
   "id": "fdba6527",
   "metadata": {},
   "outputs": [
    {
     "name": "stdout",
     "output_type": "stream",
     "text": [
      "---------- TextMessage (user) ----------\n",
      " i want to refund my flight\n",
      "---------- ThoughtEvent (travel_agent) ----------\n",
      "I can assist you with that. Let me connect you to the flights_refunder who will help process your flight refund. Please hold on a moment.\n",
      "---------- ToolCallRequestEvent (travel_agent) ----------\n",
      "[FunctionCall(id='call_nMEgRkWLY03g1BGK3XqE4I6h', arguments='{}', name='transfer_to_flights_refunder')]\n",
      "---------- ToolCallExecutionEvent (travel_agent) ----------\n",
      "[FunctionExecutionResult(content='Transferred to flights_refunder, adopting the role of flights_refunder immediately.', name='transfer_to_flights_refunder', call_id='call_nMEgRkWLY03g1BGK3XqE4I6h', is_error=False)]\n",
      "---------- HandoffMessage (travel_agent) ----------\n",
      "Transferred to flights_refunder, adopting the role of flights_refunder immediately.\n",
      "---------- TextMessage (flights_refunder) ----------\n",
      "To proceed with the refund, could you please provide me with your flight's PNR number?\n",
      "---------- ToolCallRequestEvent (flights_refunder) ----------\n",
      "[FunctionCall(id='call_NlniDk9lTvRKfhBpYsgc5lEo', arguments='{}', name='transfer_to_user')]\n",
      "---------- ToolCallExecutionEvent (flights_refunder) ----------\n",
      "[FunctionExecutionResult(content='Transferred to user, adopting the role of user immediately.', name='transfer_to_user', call_id='call_NlniDk9lTvRKfhBpYsgc5lEo', is_error=False)]\n",
      "---------- HandoffMessage (flights_refunder) ----------\n",
      "Transferred to user, adopting the role of user immediately.\n",
      "---------- HandoffMessage (user) ----------\n",
      "i need to cancel my flight , the airline is jetstar\n",
      "---------- TextMessage (flights_refunder) ----------\n",
      "To cancel your flight and process a refund, I still need your flight's PNR number. Could you please provide that?\n",
      "---------- ToolCallRequestEvent (flights_refunder) ----------\n",
      "[FunctionCall(id='call_0dBB7ZbvvGOrKgyMV8AiaDHq', arguments='{}', name='transfer_to_user')]\n",
      "---------- ToolCallExecutionEvent (flights_refunder) ----------\n",
      "[FunctionExecutionResult(content='Transferred to user, adopting the role of user immediately.', name='transfer_to_user', call_id='call_0dBB7ZbvvGOrKgyMV8AiaDHq', is_error=False)]\n",
      "---------- HandoffMessage (flights_refunder) ----------\n",
      "Transferred to user, adopting the role of user immediately.\n",
      "---------- HandoffMessage (user) ----------\n",
      "pnr224\n",
      "---------- ToolCallRequestEvent (flights_refunder) ----------\n",
      "[FunctionCall(id='call_54C5RCTnDU2u6HHu7zVlmfK4', arguments='{\"flight_PNR\":\"pnr224\"}', name='refund_flight')]\n",
      "---------- ToolCallExecutionEvent (flights_refunder) ----------\n",
      "[FunctionExecutionResult(content='Refunded Flight with PNR pnr224', name='refund_flight', call_id='call_54C5RCTnDU2u6HHu7zVlmfK4', is_error=False)]\n",
      "---------- ToolCallSummaryMessage (flights_refunder) ----------\n",
      "Refunded Flight with PNR pnr224\n",
      "---------- ThoughtEvent (flights_refunder) ----------\n",
      "Your flight with PNR \"pnr224\" has been successfully refunded. If you have any further questions or need assistance with anything else, feel free to ask. Transferring you now to the travel agent for finalization.\n",
      "---------- ToolCallRequestEvent (flights_refunder) ----------\n",
      "[FunctionCall(id='call_65bUxXmrCPWANO3VGfbwB6Ws', arguments='{}', name='transfer_to_travel_agent')]\n",
      "---------- ToolCallExecutionEvent (flights_refunder) ----------\n",
      "[FunctionExecutionResult(content='Transferred to travel_agent, adopting the role of travel_agent immediately.', name='transfer_to_travel_agent', call_id='call_65bUxXmrCPWANO3VGfbwB6Ws', is_error=False)]\n",
      "---------- HandoffMessage (flights_refunder) ----------\n",
      "Transferred to travel_agent, adopting the role of travel_agent immediately.\n",
      "---------- TextMessage (travel_agent) ----------\n",
      "Your flight refund process has been completed. If there's anything else you need help with, please let me know. Safe travels! TERMINATE\n"
     ]
    }
   ],
   "source": [
    "task = \" i want to refund my flight\"\n",
    "\n",
    "async def run_team_stream()-> None:\n",
    "    task_result = await Console(team.run_stream(task=task)\n",
    "                                )\n",
    "    \n",
    "    last_message = task_result.messages[-1]\n",
    "\n",
    "    while (isinstance(last_message, HandoffMessage) and last_message.target =='user'):\n",
    "        user_input = input(\"User : \")\n",
    "\n",
    "        task_result = await Console(team.run_stream(task=HandoffMessage(source='user',target=last_message.source, content=user_input))\n",
    "                                    )\n",
    "        last_message = task_result.messages[-1]\n",
    "        \n",
    "await run_team_stream()\n",
    "\n"
   ]
  }
 ],
 "metadata": {
  "kernelspec": {
   "display_name": "autogen-venv",
   "language": "python",
   "name": "python3"
  },
  "language_info": {
   "codemirror_mode": {
    "name": "ipython",
    "version": 3
   },
   "file_extension": ".py",
   "mimetype": "text/x-python",
   "name": "python",
   "nbconvert_exporter": "python",
   "pygments_lexer": "ipython3",
   "version": "3.12.7"
  }
 },
 "nbformat": 4,
 "nbformat_minor": 5
}
