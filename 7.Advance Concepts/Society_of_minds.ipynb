{
 "cells": [
  {
   "cell_type": "code",
   "execution_count": 2,
   "id": "38cf0c1d",
   "metadata": {},
   "outputs": [
    {
     "name": "stdout",
     "output_type": "stream",
     "text": [
      "\n",
      "🏗️  Society of Mind Architecture:\n",
      "\n",
      "    ┌─────────────────────────────────────-┐\n",
      "    │        Society of Mind Agent         │\n",
      "    │  ┌─────────────────────────────────┐ │\n",
      "    │  │         Inner Team              │ │\n",
      "    │  │  ┌─────────┐  ┌─────────────┐   │ │\n",
      "    │  │  │ Agent A │  │   Agent B   │   │ │\n",
      "    │  │  │(Writer) │  │  (Editor)   │   │ │\n",
      "    │  │  └─────────┘  └─────────────┘   │ │\n",
      "    │  │         │            │          │ │\n",
      "    │  │         └────┬───────┘          │ │\n",
      "    │  │              │                  │ │\n",
      "    │  │         Discussion              │ │\n",
      "    │  └─────────────────────────────────┘ │\n",
      "    │                 │                    │\n",
      "    │            Synthesis                 │\n",
      "    │                 │                    │\n",
      "    │           Final Response             │\n",
      "    └─────────────────────────────────────-┘\n",
      "    \n"
     ]
    }
   ],
   "source": [
    "print(\"\\n🏗️  Society of Mind Architecture:\")\n",
    "print(\"\"\"\n",
    "    ┌─────────────────────────────────────-┐\n",
    "    │        Society of Mind Agent         │\n",
    "    │  ┌─────────────────────────────────┐ │\n",
    "    │  │         Inner Team              │ │\n",
    "    │  │  ┌─────────┐  ┌─────────────┐   │ │\n",
    "    │  │  │ Agent A │  │   Agent B   │   │ │\n",
    "    │  │  │(Writer) │  │  (Editor)   │   │ │\n",
    "    │  │  └─────────┘  └─────────────┘   │ │\n",
    "    │  │         │            │          │ │\n",
    "    │  │         └────┬───────┘          │ │\n",
    "    │  │              │                  │ │\n",
    "    │  │         Discussion              │ │\n",
    "    │  └─────────────────────────────────┘ │\n",
    "    │                 │                    │\n",
    "    │            Synthesis                 │\n",
    "    │                 │                    │\n",
    "    │           Final Response             │\n",
    "    └─────────────────────────────────────-┘\n",
    "    \"\"\")"
   ]
  },
  {
   "cell_type": "code",
   "execution_count": 5,
   "id": "68a6dc8a",
   "metadata": {},
   "outputs": [],
   "source": [
    "from dotenv import load_dotenv\n",
    "load_dotenv()\n",
    "import os \n",
    "api_key = os.getenv('OPENAI_API_KEY')\n"
   ]
  },
  {
   "cell_type": "code",
   "execution_count": 6,
   "id": "5a06c81f",
   "metadata": {},
   "outputs": [
    {
     "name": "stdout",
     "output_type": "stream",
     "text": [
      "---------- TextMessage (user) ----------\n",
      "Write a short story with a surprising ending under 50 words.\n",
      "---------- TextMessage (assistant1) ----------\n",
      "In the bustling city, Jane followed a stranger's dropped wallet. Returning it, she was startled to see her own photo inside. The stranger smiled, \"I've been looking for you.\" Jane realized she was meeting her twin, separated at birth. Their unexpected reunion was a twist of fate.\n",
      "---------- TextMessage (assistant2) ----------\n",
      "Your story captures a surprise ending well, but it subtly hints at the twist too early. Consider obscuring the connection between Jane and the stranger more until the last moment for a stronger impact. Overall, it's engaging and concise. \n",
      "\n",
      "APPROVE\n",
      "---------- TextMessage (society_of_mind) ----------\n",
      "In the city, Jane returns a stranger's wallet, only to find her photo inside. The stranger reveals they are long-lost twins, meeting unexpectedly.\n",
      "---------- TextMessage (assistant3) ----------\n",
      "En la ciudad, Jane devuelve la billetera de un desconocido, solo para encontrar su foto adentro. El desconocido revela que son gemelos perdidos hace mucho tiempo, encontrándose inesperadamente.\n"
     ]
    }
   ],
   "source": [
    "import asyncio\n",
    "from autogen_agentchat.ui import Console\n",
    "from autogen_agentchat.agents import AssistantAgent, SocietyOfMindAgent\n",
    "from autogen_ext.models.openai import OpenAIChatCompletionClient\n",
    "from autogen_agentchat.teams import RoundRobinGroupChat\n",
    "from autogen_agentchat.conditions import TextMentionTermination\n",
    "\n",
    "\n",
    "async def main() -> None:\n",
    "    model_client = OpenAIChatCompletionClient(model=\"gpt-4o\",api_key=api_key)\n",
    "\n",
    "    agent1 = AssistantAgent(\"assistant1\", model_client=model_client, system_message=\"You are a writer, write well under 50 words.\")\n",
    "    agent2 = AssistantAgent(\n",
    "        \"assistant2\",\n",
    "        model_client=model_client,\n",
    "        system_message=\"You are an editor, provide critical feedback under 50 words. Respond with 'APPROVE' if the text addresses all feedbacks.\",\n",
    "    )\n",
    "    inner_termination = TextMentionTermination(\"APPROVE\")\n",
    "    inner_team = RoundRobinGroupChat([agent1, agent2], termination_condition=inner_termination)\n",
    "\n",
    "\n",
    "    society_of_mind_agent = SocietyOfMindAgent(\"society_of_mind\", team=inner_team, model_client=model_client,response_prompt='Output a standalone response to the original request under 50 words, without mentioning any of the intermediate discussion.')\n",
    "\n",
    "   # agent4 = society_of_mind_agent = SocietyOfMindAgent(\"society_of_mind\", team=inner_team, model_client=model_client,response_prompt='Output a standalone response to the original request under 50 words, without mentioning any of the intermediate discussion.')\n",
    "\n",
    "\n",
    "\n",
    "\n",
    "\n",
    "    agent3 = AssistantAgent(\n",
    "        \"assistant3\", model_client=model_client, system_message=\"Translate the text to Spanish under 50 words.\"\n",
    "    )\n",
    "    team = RoundRobinGroupChat([society_of_mind_agent, agent3], max_turns=2)\n",
    "\n",
    "    stream = team.run_stream(task=\"Write a short story with a surprising ending under 50 words.\")\n",
    "    await Console(stream)\n",
    "\n",
    "\n",
    "await (main())"
   ]
  }
 ],
 "metadata": {
  "kernelspec": {
   "display_name": "autogen-venv",
   "language": "python",
   "name": "python3"
  },
  "language_info": {
   "codemirror_mode": {
    "name": "ipython",
    "version": 3
   },
   "file_extension": ".py",
   "mimetype": "text/x-python",
   "name": "python",
   "nbconvert_exporter": "python",
   "pygments_lexer": "ipython3",
   "version": "3.12.7"
  }
 },
 "nbformat": 4,
 "nbformat_minor": 5
}
