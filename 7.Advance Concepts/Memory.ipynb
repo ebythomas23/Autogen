{
 "cells": [
  {
   "cell_type": "code",
   "execution_count": 1,
   "id": "c2526362",
   "metadata": {},
   "outputs": [],
   "source": [
    "from autogen_agentchat.agents import AssistantAgent\n",
    "from autogen_agentchat.ui import Console\n",
    "from autogen_core.memory import ListMemory, MemoryContent, MemoryMimeType\n",
    "from autogen_ext.models.openai import OpenAIChatCompletionClient"
   ]
  },
  {
   "cell_type": "code",
   "execution_count": 2,
   "id": "9915b8da",
   "metadata": {},
   "outputs": [],
   "source": [
    "userMemory = ListMemory()"
   ]
  },
  {
   "cell_type": "code",
   "execution_count": 3,
   "id": "1fb92297",
   "metadata": {},
   "outputs": [],
   "source": [
    "from dotenv import load_dotenv\n",
    "load_dotenv()\n",
    "import os \n",
    "api_key = os.getenv('OPENAI_API_KEY')"
   ]
  },
  {
   "cell_type": "code",
   "execution_count": 4,
   "id": "c077b5f7",
   "metadata": {},
   "outputs": [],
   "source": [
    "await userMemory.add(MemoryContent(\n",
    "    content='The weather should in degree celsius',\n",
    "    mime_type=MemoryMimeType.TEXT\n",
    "))\n",
    "\n",
    "await userMemory.add(MemoryContent(\n",
    "    content='The User is Vegetarian',\n",
    "    mime_type=MemoryMimeType.TEXT\n",
    "))"
   ]
  },
  {
   "cell_type": "code",
   "execution_count": 5,
   "id": "1813fe74",
   "metadata": {},
   "outputs": [],
   "source": [
    "async def get_weather(city: str, units: str = \"imperial\") -> str:\n",
    "    if units == \"imperial\":\n",
    "        return f\"The weather in {city} is 73 °F and Sunny.\"\n",
    "    elif units == \"metric\":\n",
    "        return f\"The weather in {city} is 23 °C and Sunny.\"\n",
    "    else:\n",
    "        return f\"Sorry, I don't know the weather in {city}.\""
   ]
  },
  {
   "cell_type": "code",
   "execution_count": 6,
   "id": "7f1efffb",
   "metadata": {},
   "outputs": [],
   "source": [
    "assistan_agent =AssistantAgent('WEATHER_Assitant', model_client=OpenAIChatCompletionClient(model='gpt-4o',api_key=api_key),\n",
    "                               tools=[get_weather],\n",
    "                               memory=[userMemory])"
   ]
  },
  {
   "cell_type": "code",
   "execution_count": 7,
   "id": "3f6cea54",
   "metadata": {},
   "outputs": [
    {
     "name": "stdout",
     "output_type": "stream",
     "text": [
      "---------- TextMessage (user) ----------\n",
      "what is the weather in melbourne\n",
      "---------- MemoryQueryEvent (WEATHER_Assitant) ----------\n",
      "[MemoryContent(content='The weather should in degree celsius', mime_type=<MemoryMimeType.TEXT: 'text/plain'>, metadata=None), MemoryContent(content='The User is Vegetarian', mime_type=<MemoryMimeType.TEXT: 'text/plain'>, metadata=None)]\n",
      "---------- ToolCallRequestEvent (WEATHER_Assitant) ----------\n",
      "[FunctionCall(id='call_XIcLk7bVwXZU0LHuL6Rj7Rnw', arguments='{\"city\":\"Melbourne\",\"units\":\"metric\"}', name='get_weather')]\n",
      "---------- ToolCallExecutionEvent (WEATHER_Assitant) ----------\n",
      "[FunctionExecutionResult(content='The weather in Melbourne is 23 °C and Sunny.', name='get_weather', call_id='call_XIcLk7bVwXZU0LHuL6Rj7Rnw', is_error=False)]\n",
      "---------- ToolCallSummaryMessage (WEATHER_Assitant) ----------\n",
      "The weather in Melbourne is 23 °C and Sunny.\n"
     ]
    },
    {
     "data": {
      "text/plain": [
       "TaskResult(messages=[TextMessage(id='8aea929f-1376-4118-a963-1b1eefdbe887', source='user', models_usage=None, metadata={}, created_at=datetime.datetime(2025, 9, 19, 0, 36, 32, 470984, tzinfo=datetime.timezone.utc), content='what is the weather in melbourne', type='TextMessage'), MemoryQueryEvent(id='0d1dd70f-75f1-4c08-b43b-3198bc4510be', source='WEATHER_Assitant', models_usage=None, metadata={}, created_at=datetime.datetime(2025, 9, 19, 0, 36, 32, 472795, tzinfo=datetime.timezone.utc), content=[MemoryContent(content='The weather should in degree celsius', mime_type=<MemoryMimeType.TEXT: 'text/plain'>, metadata=None), MemoryContent(content='The User is Vegetarian', mime_type=<MemoryMimeType.TEXT: 'text/plain'>, metadata=None)], type='MemoryQueryEvent'), ToolCallRequestEvent(id='13162653-f187-4f81-8181-5444935e65c7', source='WEATHER_Assitant', models_usage=RequestUsage(prompt_tokens=121, completion_tokens=19), metadata={}, created_at=datetime.datetime(2025, 9, 19, 0, 36, 34, 295857, tzinfo=datetime.timezone.utc), content=[FunctionCall(id='call_XIcLk7bVwXZU0LHuL6Rj7Rnw', arguments='{\"city\":\"Melbourne\",\"units\":\"metric\"}', name='get_weather')], type='ToolCallRequestEvent'), ToolCallExecutionEvent(id='d819cbbd-e0bb-4d82-a037-c766848c1953', source='WEATHER_Assitant', models_usage=None, metadata={}, created_at=datetime.datetime(2025, 9, 19, 0, 36, 34, 300883, tzinfo=datetime.timezone.utc), content=[FunctionExecutionResult(content='The weather in Melbourne is 23 °C and Sunny.', name='get_weather', call_id='call_XIcLk7bVwXZU0LHuL6Rj7Rnw', is_error=False)], type='ToolCallExecutionEvent'), ToolCallSummaryMessage(id='f691877d-2b69-4199-873e-4725a2cea5a1', source='WEATHER_Assitant', models_usage=None, metadata={}, created_at=datetime.datetime(2025, 9, 19, 0, 36, 34, 302207, tzinfo=datetime.timezone.utc), content='The weather in Melbourne is 23 °C and Sunny.', type='ToolCallSummaryMessage', tool_calls=[FunctionCall(id='call_XIcLk7bVwXZU0LHuL6Rj7Rnw', arguments='{\"city\":\"Melbourne\",\"units\":\"metric\"}', name='get_weather')], results=[FunctionExecutionResult(content='The weather in Melbourne is 23 °C and Sunny.', name='get_weather', call_id='call_XIcLk7bVwXZU0LHuL6Rj7Rnw', is_error=False)])], stop_reason=None)"
      ]
     },
     "execution_count": 7,
     "metadata": {},
     "output_type": "execute_result"
    }
   ],
   "source": [
    "stream = assistan_agent.run_stream(task='what is the weather in melbourne')\n",
    "await Console(stream)"
   ]
  },
  {
   "cell_type": "code",
   "execution_count": 8,
   "id": "d6c94aaf",
   "metadata": {},
   "outputs": [
    {
     "name": "stdout",
     "output_type": "stream",
     "text": [
      "---------- TextMessage (user) ----------\n",
      "give me one day diet plan\n",
      "---------- MemoryQueryEvent (WEATHER_Assitant) ----------\n",
      "[MemoryContent(content='The weather should in degree celsius', mime_type=<MemoryMimeType.TEXT: 'text/plain'>, metadata=None), MemoryContent(content='The User is Vegetarian', mime_type=<MemoryMimeType.TEXT: 'text/plain'>, metadata=None)]\n",
      "---------- TextMessage (WEATHER_Assitant) ----------\n",
      "Here's a vegetarian one-day diet plan:\n",
      "\n",
      "**Breakfast:**\n",
      "- **Smoothie Bowl**: Blend a banana, a handful of spinach, and a cup of almond milk. Top with chia seeds, sliced strawberries, and a sprinkle of granola.\n",
      "- **Herbal Tea** or a glass of water with a slice of lemon.\n",
      "\n",
      "**Mid-Morning Snack:**\n",
      "- A handful of almonds or walnuts.\n",
      "- A piece of fresh fruit, like an apple or pear.\n",
      "\n",
      "**Lunch:**\n",
      "- **Chickpea Salad**: Combine canned chickpeas, diced cucumber, cherry tomatoes, red onion, and parsley. Dress with olive oil, lemon juice, salt, and pepper.\n",
      "- Whole grain pita bread or a slice of whole-grain bread.\n",
      "\n",
      "**Afternoon Snack:**\n",
      "- Carrot sticks or celery sticks with hummus.\n",
      "- A cup of green tea or herbal tea.\n",
      "\n",
      "**Dinner:**\n",
      "- **Vegetable Stir Fry**: Stir-fry broccoli, bell peppers, onions, and snap peas in a bit of olive oil, soy sauce, and garlic. Serve over brown rice or quinoa.\n",
      "- A side of mixed green salad with a balsamic vinaigrette.\n",
      "\n",
      "**Evening Snack:**\n",
      "- A bowl of mixed berries or a small serving of dark chocolate.\n",
      "\n",
      "**Hydration:**\n",
      "- Keep yourself hydrated throughout the day with plenty of water. Aim for at least 8-10 glasses.\n",
      "\n",
      "Feel free to adjust the portion sizes based on your nutritional needs and activity levels!\n"
     ]
    },
    {
     "data": {
      "text/plain": [
       "TaskResult(messages=[TextMessage(id='40819d42-18b1-4865-84b4-572e62239e10', source='user', models_usage=None, metadata={}, created_at=datetime.datetime(2025, 9, 19, 0, 36, 34, 317521, tzinfo=datetime.timezone.utc), content='give me one day diet plan', type='TextMessage'), MemoryQueryEvent(id='59248ff3-881b-4dcb-ba77-c39b97a429b0', source='WEATHER_Assitant', models_usage=None, metadata={}, created_at=datetime.datetime(2025, 9, 19, 0, 36, 34, 319057, tzinfo=datetime.timezone.utc), content=[MemoryContent(content='The weather should in degree celsius', mime_type=<MemoryMimeType.TEXT: 'text/plain'>, metadata=None), MemoryContent(content='The User is Vegetarian', mime_type=<MemoryMimeType.TEXT: 'text/plain'>, metadata=None)], type='MemoryQueryEvent'), TextMessage(id='1436dd48-1ed0-407d-a06d-f2c2cbad67ee', source='WEATHER_Assitant', models_usage=RequestUsage(prompt_tokens=201, completion_tokens=302), metadata={}, created_at=datetime.datetime(2025, 9, 19, 0, 36, 40, 27947, tzinfo=datetime.timezone.utc), content=\"Here's a vegetarian one-day diet plan:\\n\\n**Breakfast:**\\n- **Smoothie Bowl**: Blend a banana, a handful of spinach, and a cup of almond milk. Top with chia seeds, sliced strawberries, and a sprinkle of granola.\\n- **Herbal Tea** or a glass of water with a slice of lemon.\\n\\n**Mid-Morning Snack:**\\n- A handful of almonds or walnuts.\\n- A piece of fresh fruit, like an apple or pear.\\n\\n**Lunch:**\\n- **Chickpea Salad**: Combine canned chickpeas, diced cucumber, cherry tomatoes, red onion, and parsley. Dress with olive oil, lemon juice, salt, and pepper.\\n- Whole grain pita bread or a slice of whole-grain bread.\\n\\n**Afternoon Snack:**\\n- Carrot sticks or celery sticks with hummus.\\n- A cup of green tea or herbal tea.\\n\\n**Dinner:**\\n- **Vegetable Stir Fry**: Stir-fry broccoli, bell peppers, onions, and snap peas in a bit of olive oil, soy sauce, and garlic. Serve over brown rice or quinoa.\\n- A side of mixed green salad with a balsamic vinaigrette.\\n\\n**Evening Snack:**\\n- A bowl of mixed berries or a small serving of dark chocolate.\\n\\n**Hydration:**\\n- Keep yourself hydrated throughout the day with plenty of water. Aim for at least 8-10 glasses.\\n\\nFeel free to adjust the portion sizes based on your nutritional needs and activity levels!\", type='TextMessage')], stop_reason=None)"
      ]
     },
     "execution_count": 8,
     "metadata": {},
     "output_type": "execute_result"
    }
   ],
   "source": [
    "stream = assistan_agent.run_stream(task='give me one day diet plan')\n",
    "await Console(stream)"
   ]
  },
  {
   "cell_type": "markdown",
   "id": "b986451b",
   "metadata": {},
   "source": [
    "\n",
    "\n",
    "    RAG (Retrieval-Augmented Generation) Concept:\n",
    "    ==========================================\n",
    "    \n",
    "    1. RETRIEVAL: When a user asks a question, the system searches through \n",
    "       a knowledge base (vector store) to find relevant information.\n",
    "    \n",
    "    2. AUGMENTATION: The retrieved information is added to the user's question \n",
    "       as context, providing the AI model with relevant background knowledge.\n",
    "    \n",
    "    3. GENERATION: The AI model generates a response based on both the original \n",
    "       question and the retrieved context, resulting in more accurate and \n",
    "       informative answers.\n",
    "    \n",
    "    Benefits:\n",
    "    - Reduces hallucinations\n",
    "    - Provides up-to-date information\n",
    "    - Enables domain-specific knowledge\n",
    "    - Improves response accuracy\n",
    " Vector Embeddings Explained:\n",
    "    ===========================\n",
    "    \n",
    "    1. TEXT TO NUMBERS: Embeddings convert text into numerical vectors \n",
    "       (arrays of numbers) that represent semantic meaning.\n",
    "    \n",
    "    2. SEMANTIC SIMILARITY: Similar texts have similar vector representations.\n",
    "       This allows mathematical comparison of meaning.\n",
    "    \n",
    "    3. HIGH DIMENSIONS: Embeddings typically have 384, 768, or 1536 dimensions,\n",
    "       capturing complex relationships between concepts.\n",
    "    \n",
    "    4. DISTANCE METRICS: \n",
    "       - Cosine similarity: Measures angle between vectors\n",
    "       - Euclidean distance: Measures straight-line distance\n",
    "       - Dot product: Measures vector alignment\n",
    "    \n",
    "    Example:\n",
    "    \"dog\" and \"puppy\" → very similar vectors (high similarity score)\n",
    "    \"dog\" and \"computer\" → very different vectors (low similarity score)\n",
    "   \n",
    "    1. VECTOR STORAGE: Efficiently stores and indexes high-dimensional vectors\n",
    "    \n",
    "    2. SIMILARITY SEARCH: Fast retrieval of similar vectors using various metrics\n",
    "    \n",
    "    3. METADATA FILTERING: Attach metadata to vectors for advanced filtering\n",
    "    \n",
    "    4. MULTIPLE CLIENTS:\n",
    "       - Persistent: Local file-based storage\n",
    "       - HTTP: Remote server deployment\n",
    "    \n",
    "    5. EMBEDDING FUNCTIONS:\n",
    "       - Default: all-MiniLM-L6-v2 (lightweight, fast)\n",
    "       - OpenAI: High-quality commercial embeddings\n",
    "       - SentenceTransformers: Various specialized models\n",
    "       - Custom: Your own embedding functions\n",
    "    \n",
    "    6. COLLECTIONS: Organize vectors into separate collections/namespaces\n",
    "    \n",
    "    7. PERSISTENCE: Data survives application restarts\n",
    "\n"
   ]
  }
 ],
 "metadata": {
  "kernelspec": {
   "display_name": "autogen-venv",
   "language": "python",
   "name": "python3"
  },
  "language_info": {
   "codemirror_mode": {
    "name": "ipython",
    "version": 3
   },
   "file_extension": ".py",
   "mimetype": "text/x-python",
   "name": "python",
   "nbconvert_exporter": "python",
   "pygments_lexer": "ipython3",
   "version": "3.12.7"
  }
 },
 "nbformat": 4,
 "nbformat_minor": 5
}
